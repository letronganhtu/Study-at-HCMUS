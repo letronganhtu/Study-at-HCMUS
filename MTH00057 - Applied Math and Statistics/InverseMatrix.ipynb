{
 "cells": [
  {
   "cell_type": "markdown",
   "metadata": {},
   "source": [
    "## Đồ án 2 - Tìm ma trận nghịch đảo\n",
    "\n",
    "Họ và tên: Lê Trọng Anh Tú\n",
    "\n",
    "MSSV: 20127091\n",
    "\n",
    "Môn học: Toán ứng dụng và thống kê\n",
    "\n",
    "Lớp: 20CLC07"
   ]
  },
  {
   "cell_type": "markdown",
   "metadata": {},
   "source": [
    "#### 1. Xây dựng hàm tìm ma trận nghịch đảo\n",
    "\n",
    "Input: ma trận vuông cấp n của A\n",
    "\n",
    "Output: 2 tham số\n",
    "- `can_inv`: kiểm tra xem ma trận có khả nghịch hay không (trả ra giá trị True hoặc False)\n",
    "- `res`: ma trận nghịch đảo của A nếu `can_inv` = `True` (ma trận đầu vào khả nghịch)"
   ]
  },
  {
   "cell_type": "code",
   "execution_count": 1,
   "metadata": {},
   "outputs": [],
   "source": [
    "def delta(value):\n",
    "    return 0 if abs(value) < 1e-7 else value\n",
    "\n",
    "def inverse(A):\n",
    "    n = len(A)\n",
    "    can_inv = True\n",
    "\n",
    "    res = [[1 if i == j else 0 for j in range(n)] for i in range(n)]\n",
    "    \n",
    "    for i in range(n):\n",
    "        for j in range(i, n):\n",
    "            if delta(A[j][i]) != 0: break\n",
    "        if j == n - 1 and delta(A[j][i]) == 0:\n",
    "            can_inv = False\n",
    "            break\n",
    "        A[i], A[j] = A[j], A[i]\n",
    "        res[i], res[j] = res[j], res[i]\n",
    "        temp = A[i][i]\n",
    "        for k in range(n): A[i][k] = delta(A[i][k] / temp)\n",
    "        for k in range(n): res[i][k] = delta(res[i][k] / temp)\n",
    "        for j in range(n):\n",
    "            if j != i:\n",
    "                temp = A[j][i]\n",
    "                for k in range(n): A[j][k] = delta(A[j][k] - temp * A[i][k])\n",
    "                for k in range(n): res[j][k] = delta(res[j][k] - temp * res[i][k])\n",
    "\n",
    "    return can_inv, res"
   ]
  },
  {
   "cell_type": "markdown",
   "metadata": {},
   "source": [
    "#### 2. Xây dựng bộ test cho hàm vừa cài đặt ở trên\n",
    "\n",
    "Nhập ma trận cần tìm nghịch đảo vào file `input.txt`. Đảm bảo rằng ma trận nhập vào luôn là ma trận vuông.\n",
    "\n",
    "Đọc ma trận từ file vào biến a."
   ]
  },
  {
   "cell_type": "code",
   "execution_count": 2,
   "metadata": {},
   "outputs": [
    {
     "name": "stdout",
     "output_type": "stream",
     "text": [
      "[-1.0, 3.0, -4.0]\n",
      "[2.0, 4.0, 1.0]\n",
      "[-4.0, 2.0, -9.0]\n"
     ]
    }
   ],
   "source": [
    "inp_file = open('input.txt', 'r')\n",
    "a = [[float(x) for x in line.split()] for line in inp_file]\n",
    "\n",
    "for line in a: print(line)"
   ]
  },
  {
   "cell_type": "markdown",
   "metadata": {},
   "source": [
    "Sử dụng hàm `inverse(a)` để kiểm tra ma trận có khả nghịch hay không và trả ra ma trận nghịch đảo (nếu có).\n",
    "- `ok`: Nếu có giá trị là True thì ma trận khả nghịch. Ngược lại ma trận không khả nghịch và in ra màn hình \"Can't inverse this matrix\"\n",
    "- `ans`: ma trận nghịch đảo của ma trận a"
   ]
  },
  {
   "cell_type": "code",
   "execution_count": 3,
   "metadata": {},
   "outputs": [
    {
     "name": "stdout",
     "output_type": "stream",
     "text": [
      "Can't inverse this matrix\n"
     ]
    }
   ],
   "source": [
    "ok, ans = inverse(a)\n",
    "if ok == True: \n",
    "    for line in ans: print(line)\n",
    "else: print(\"Can't inverse this matrix\")"
   ]
  }
 ],
 "metadata": {
  "interpreter": {
   "hash": "eadba2b3581326a2d7bd273e9d419eb0fab219e321930fd6a453aab726dd8270"
  },
  "kernelspec": {
   "display_name": "Python 3.9.7 64-bit",
   "language": "python",
   "name": "python3"
  },
  "language_info": {
   "codemirror_mode": {
    "name": "ipython",
    "version": 3
   },
   "file_extension": ".py",
   "mimetype": "text/x-python",
   "name": "python",
   "nbconvert_exporter": "python",
   "pygments_lexer": "ipython3",
   "version": "3.9.7"
  },
  "orig_nbformat": 4
 },
 "nbformat": 4,
 "nbformat_minor": 2
}
