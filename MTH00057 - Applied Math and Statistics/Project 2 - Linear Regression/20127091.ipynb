{
 "cells": [
  {
   "cell_type": "markdown",
   "metadata": {},
   "source": [
    "## Đồ án 3 - Linear Regression\n",
    "\n",
    "Họ và tên: Lê Trọng Anh Tú\n",
    "\n",
    "MSSV: 20127091\n",
    "\n",
    "Môn học: Toán ứng dụng và thống kê\n",
    "\n",
    "Lớp: 20CLC07"
   ]
  },
  {
   "cell_type": "markdown",
   "metadata": {},
   "source": [
    "#### 0. Các thư viện được sử dụng"
   ]
  },
  {
   "cell_type": "code",
   "execution_count": 1,
   "metadata": {},
   "outputs": [],
   "source": [
    "import numpy as np\n",
    "import pandas as pd"
   ]
  },
  {
   "cell_type": "markdown",
   "metadata": {},
   "source": [
    "#### 1. Đọc dữ liệu từ file\n",
    "\n",
    "Ta chọn file `wine.csv` làm dữ liệu để xây dựng mô hình. Dữ liệu được ngăn cách bởi dấu `';'` nên ta truyền tham số `sep = ';'` vào để hàm đọc dữ liệu tự tách các dữ liệu ra với nhau."
   ]
  },
  {
   "cell_type": "code",
   "execution_count": 2,
   "metadata": {},
   "outputs": [],
   "source": [
    "df = pd.read_csv('wine.csv', sep = ';')"
   ]
  },
  {
   "cell_type": "markdown",
   "metadata": {},
   "source": [
    "Output của dữ liệu vừa đọc được từ `wine.csv`"
   ]
  },
  {
   "cell_type": "code",
   "execution_count": 3,
   "metadata": {},
   "outputs": [
    {
     "data": {
      "text/html": [
       "<div>\n",
       "<style scoped>\n",
       "    .dataframe tbody tr th:only-of-type {\n",
       "        vertical-align: middle;\n",
       "    }\n",
       "\n",
       "    .dataframe tbody tr th {\n",
       "        vertical-align: top;\n",
       "    }\n",
       "\n",
       "    .dataframe thead th {\n",
       "        text-align: right;\n",
       "    }\n",
       "</style>\n",
       "<table border=\"1\" class=\"dataframe\">\n",
       "  <thead>\n",
       "    <tr style=\"text-align: right;\">\n",
       "      <th></th>\n",
       "      <th>fixed acidity</th>\n",
       "      <th>volatile acidity</th>\n",
       "      <th>citric acid</th>\n",
       "      <th>residual sugar</th>\n",
       "      <th>chlorides</th>\n",
       "      <th>free sulfur dioxide</th>\n",
       "      <th>total sulfur dioxide</th>\n",
       "      <th>density</th>\n",
       "      <th>pH</th>\n",
       "      <th>sulphates</th>\n",
       "      <th>alcohol</th>\n",
       "      <th>quality</th>\n",
       "    </tr>\n",
       "  </thead>\n",
       "  <tbody>\n",
       "    <tr>\n",
       "      <th>0</th>\n",
       "      <td>7.4</td>\n",
       "      <td>0.700</td>\n",
       "      <td>0.00</td>\n",
       "      <td>1.9</td>\n",
       "      <td>0.076</td>\n",
       "      <td>11.0</td>\n",
       "      <td>34</td>\n",
       "      <td>0.99780</td>\n",
       "      <td>3.51</td>\n",
       "      <td>0.56</td>\n",
       "      <td>9.4</td>\n",
       "      <td>5</td>\n",
       "    </tr>\n",
       "    <tr>\n",
       "      <th>1</th>\n",
       "      <td>7.8</td>\n",
       "      <td>0.880</td>\n",
       "      <td>0.00</td>\n",
       "      <td>2.6</td>\n",
       "      <td>0.098</td>\n",
       "      <td>25.0</td>\n",
       "      <td>67</td>\n",
       "      <td>0.99680</td>\n",
       "      <td>3.20</td>\n",
       "      <td>0.68</td>\n",
       "      <td>9.8</td>\n",
       "      <td>5</td>\n",
       "    </tr>\n",
       "    <tr>\n",
       "      <th>2</th>\n",
       "      <td>7.8</td>\n",
       "      <td>0.760</td>\n",
       "      <td>0.04</td>\n",
       "      <td>2.3</td>\n",
       "      <td>0.092</td>\n",
       "      <td>15.0</td>\n",
       "      <td>54</td>\n",
       "      <td>0.99700</td>\n",
       "      <td>3.26</td>\n",
       "      <td>0.65</td>\n",
       "      <td>9.8</td>\n",
       "      <td>5</td>\n",
       "    </tr>\n",
       "    <tr>\n",
       "      <th>3</th>\n",
       "      <td>11.2</td>\n",
       "      <td>0.280</td>\n",
       "      <td>0.56</td>\n",
       "      <td>1.9</td>\n",
       "      <td>0.075</td>\n",
       "      <td>17.0</td>\n",
       "      <td>60</td>\n",
       "      <td>0.99800</td>\n",
       "      <td>3.16</td>\n",
       "      <td>0.58</td>\n",
       "      <td>9.8</td>\n",
       "      <td>6</td>\n",
       "    </tr>\n",
       "    <tr>\n",
       "      <th>4</th>\n",
       "      <td>7.4</td>\n",
       "      <td>0.700</td>\n",
       "      <td>0.00</td>\n",
       "      <td>1.9</td>\n",
       "      <td>0.076</td>\n",
       "      <td>11.0</td>\n",
       "      <td>34</td>\n",
       "      <td>0.99780</td>\n",
       "      <td>3.51</td>\n",
       "      <td>0.56</td>\n",
       "      <td>9.4</td>\n",
       "      <td>5</td>\n",
       "    </tr>\n",
       "    <tr>\n",
       "      <th>...</th>\n",
       "      <td>...</td>\n",
       "      <td>...</td>\n",
       "      <td>...</td>\n",
       "      <td>...</td>\n",
       "      <td>...</td>\n",
       "      <td>...</td>\n",
       "      <td>...</td>\n",
       "      <td>...</td>\n",
       "      <td>...</td>\n",
       "      <td>...</td>\n",
       "      <td>...</td>\n",
       "      <td>...</td>\n",
       "    </tr>\n",
       "    <tr>\n",
       "      <th>1194</th>\n",
       "      <td>7.0</td>\n",
       "      <td>0.745</td>\n",
       "      <td>0.12</td>\n",
       "      <td>1.8</td>\n",
       "      <td>0.114</td>\n",
       "      <td>15.0</td>\n",
       "      <td>64</td>\n",
       "      <td>0.99588</td>\n",
       "      <td>3.22</td>\n",
       "      <td>0.59</td>\n",
       "      <td>9.5</td>\n",
       "      <td>6</td>\n",
       "    </tr>\n",
       "    <tr>\n",
       "      <th>1195</th>\n",
       "      <td>6.2</td>\n",
       "      <td>0.430</td>\n",
       "      <td>0.22</td>\n",
       "      <td>1.8</td>\n",
       "      <td>0.078</td>\n",
       "      <td>21.0</td>\n",
       "      <td>56</td>\n",
       "      <td>0.99633</td>\n",
       "      <td>3.52</td>\n",
       "      <td>0.60</td>\n",
       "      <td>9.5</td>\n",
       "      <td>6</td>\n",
       "    </tr>\n",
       "    <tr>\n",
       "      <th>1196</th>\n",
       "      <td>7.9</td>\n",
       "      <td>0.580</td>\n",
       "      <td>0.23</td>\n",
       "      <td>2.3</td>\n",
       "      <td>0.076</td>\n",
       "      <td>23.0</td>\n",
       "      <td>94</td>\n",
       "      <td>0.99686</td>\n",
       "      <td>3.21</td>\n",
       "      <td>0.58</td>\n",
       "      <td>9.5</td>\n",
       "      <td>6</td>\n",
       "    </tr>\n",
       "    <tr>\n",
       "      <th>1197</th>\n",
       "      <td>7.7</td>\n",
       "      <td>0.570</td>\n",
       "      <td>0.21</td>\n",
       "      <td>1.5</td>\n",
       "      <td>0.069</td>\n",
       "      <td>4.0</td>\n",
       "      <td>9</td>\n",
       "      <td>0.99458</td>\n",
       "      <td>3.16</td>\n",
       "      <td>0.54</td>\n",
       "      <td>9.8</td>\n",
       "      <td>6</td>\n",
       "    </tr>\n",
       "    <tr>\n",
       "      <th>1198</th>\n",
       "      <td>7.7</td>\n",
       "      <td>0.260</td>\n",
       "      <td>0.26</td>\n",
       "      <td>2.0</td>\n",
       "      <td>0.052</td>\n",
       "      <td>19.0</td>\n",
       "      <td>77</td>\n",
       "      <td>0.99510</td>\n",
       "      <td>3.15</td>\n",
       "      <td>0.79</td>\n",
       "      <td>10.9</td>\n",
       "      <td>6</td>\n",
       "    </tr>\n",
       "  </tbody>\n",
       "</table>\n",
       "<p>1199 rows × 12 columns</p>\n",
       "</div>"
      ],
      "text/plain": [
       "      fixed acidity  volatile acidity  citric acid  residual sugar  chlorides  \\\n",
       "0               7.4             0.700         0.00             1.9      0.076   \n",
       "1               7.8             0.880         0.00             2.6      0.098   \n",
       "2               7.8             0.760         0.04             2.3      0.092   \n",
       "3              11.2             0.280         0.56             1.9      0.075   \n",
       "4               7.4             0.700         0.00             1.9      0.076   \n",
       "...             ...               ...          ...             ...        ...   \n",
       "1194            7.0             0.745         0.12             1.8      0.114   \n",
       "1195            6.2             0.430         0.22             1.8      0.078   \n",
       "1196            7.9             0.580         0.23             2.3      0.076   \n",
       "1197            7.7             0.570         0.21             1.5      0.069   \n",
       "1198            7.7             0.260         0.26             2.0      0.052   \n",
       "\n",
       "      free sulfur dioxide  total sulfur dioxide  density    pH  sulphates  \\\n",
       "0                    11.0                    34  0.99780  3.51       0.56   \n",
       "1                    25.0                    67  0.99680  3.20       0.68   \n",
       "2                    15.0                    54  0.99700  3.26       0.65   \n",
       "3                    17.0                    60  0.99800  3.16       0.58   \n",
       "4                    11.0                    34  0.99780  3.51       0.56   \n",
       "...                   ...                   ...      ...   ...        ...   \n",
       "1194                 15.0                    64  0.99588  3.22       0.59   \n",
       "1195                 21.0                    56  0.99633  3.52       0.60   \n",
       "1196                 23.0                    94  0.99686  3.21       0.58   \n",
       "1197                  4.0                     9  0.99458  3.16       0.54   \n",
       "1198                 19.0                    77  0.99510  3.15       0.79   \n",
       "\n",
       "      alcohol  quality  \n",
       "0         9.4        5  \n",
       "1         9.8        5  \n",
       "2         9.8        5  \n",
       "3         9.8        6  \n",
       "4         9.4        5  \n",
       "...       ...      ...  \n",
       "1194      9.5        6  \n",
       "1195      9.5        6  \n",
       "1196      9.5        6  \n",
       "1197      9.8        6  \n",
       "1198     10.9        6  \n",
       "\n",
       "[1199 rows x 12 columns]"
      ]
     },
     "execution_count": 3,
     "metadata": {},
     "output_type": "execute_result"
    }
   ],
   "source": [
    "df"
   ]
  },
  {
   "cell_type": "markdown",
   "metadata": {},
   "source": [
    "#### 2. Xây dựng mô hình sử dụng toàn bộ 11 thuộc tính được cung cấp "
   ]
  },
  {
   "cell_type": "markdown",
   "metadata": {},
   "source": [
    "Ta chuyển dữ liệu từ kiểu `DataFrame` về `Numpy` bằng hàm `to_numpy()`"
   ]
  },
  {
   "cell_type": "code",
   "execution_count": 4,
   "metadata": {},
   "outputs": [
    {
     "data": {
      "text/plain": [
       "array([[ 7.4 ,  0.7 ,  0.  , ...,  0.56,  9.4 ,  5.  ],\n",
       "       [ 7.8 ,  0.88,  0.  , ...,  0.68,  9.8 ,  5.  ],\n",
       "       [ 7.8 ,  0.76,  0.04, ...,  0.65,  9.8 ,  5.  ],\n",
       "       ...,\n",
       "       [ 7.9 ,  0.58,  0.23, ...,  0.58,  9.5 ,  6.  ],\n",
       "       [ 7.7 ,  0.57,  0.21, ...,  0.54,  9.8 ,  6.  ],\n",
       "       [ 7.7 ,  0.26,  0.26, ...,  0.79, 10.9 ,  6.  ]])"
      ]
     },
     "execution_count": 4,
     "metadata": {},
     "output_type": "execute_result"
    }
   ],
   "source": [
    "data_set = df.to_numpy()\n",
    "data_set"
   ]
  },
  {
   "cell_type": "markdown",
   "metadata": {},
   "source": [
    "Tìm hệ số $\\theta$ của mô hình"
   ]
  },
  {
   "cell_type": "code",
   "execution_count": 5,
   "metadata": {},
   "outputs": [],
   "source": [
    "def linear_regression(data_set):\n",
    "    X = data_set[:, :-1] # Lấy tất cả các cột làm biến đầu vào (trừ cột cuối cùng là output)\n",
    "    y = data_set[:, -1] # Lấy cột cuối cùng làm output\n",
    "    theta = np.linalg.inv(X.T @ X) @ X.T @ y\n",
    "    return theta"
   ]
  },
  {
   "cell_type": "code",
   "execution_count": 6,
   "metadata": {},
   "outputs": [
    {
     "data": {
      "text/plain": [
       "array([ 0.00592516, -1.10803754, -0.26304628,  0.01532228, -1.73050274,\n",
       "        0.00380142, -0.003899  ,  4.33858768, -0.45853548,  0.72971866,\n",
       "        0.30885865])"
      ]
     },
     "execution_count": 6,
     "metadata": {},
     "output_type": "execute_result"
    }
   ],
   "source": [
    "res_a = linear_regression(data_set)\n",
    "np.set_printoptions(suppress = True) # Tránh việc in ra các giá trị e-03, e+00...\n",
    "res_a"
   ]
  },
  {
   "cell_type": "markdown",
   "metadata": {},
   "source": [
    "Mô hình khi sử dụng toàn bộ 11 thuộc tính được cung cấp có các hệ số $\\theta_i$ như sau"
   ]
  },
  {
   "cell_type": "code",
   "execution_count": 7,
   "metadata": {},
   "outputs": [
    {
     "data": {
      "text/html": [
       "<div>\n",
       "<style scoped>\n",
       "    .dataframe tbody tr th:only-of-type {\n",
       "        vertical-align: middle;\n",
       "    }\n",
       "\n",
       "    .dataframe tbody tr th {\n",
       "        vertical-align: top;\n",
       "    }\n",
       "\n",
       "    .dataframe thead th {\n",
       "        text-align: right;\n",
       "    }\n",
       "</style>\n",
       "<table border=\"1\" class=\"dataframe\">\n",
       "  <thead>\n",
       "    <tr style=\"text-align: right;\">\n",
       "      <th></th>\n",
       "      <th>x</th>\n",
       "      <th>đặc trưng</th>\n",
       "      <th>theta</th>\n",
       "      <th>hệ số</th>\n",
       "    </tr>\n",
       "  </thead>\n",
       "  <tbody>\n",
       "    <tr>\n",
       "      <th>0</th>\n",
       "      <td>x_1</td>\n",
       "      <td>fixed acidity</td>\n",
       "      <td>theta_1</td>\n",
       "      <td>0.005925161374105113</td>\n",
       "    </tr>\n",
       "    <tr>\n",
       "      <th>1</th>\n",
       "      <td>x_2</td>\n",
       "      <td>volatile acidity</td>\n",
       "      <td>theta_2</td>\n",
       "      <td>-1.1080375422629067</td>\n",
       "    </tr>\n",
       "    <tr>\n",
       "      <th>2</th>\n",
       "      <td>x_3</td>\n",
       "      <td>citric acid</td>\n",
       "      <td>theta_3</td>\n",
       "      <td>-0.2630462837012381</td>\n",
       "    </tr>\n",
       "    <tr>\n",
       "      <th>3</th>\n",
       "      <td>x_4</td>\n",
       "      <td>residual sugar</td>\n",
       "      <td>theta_4</td>\n",
       "      <td>0.015322283066645292</td>\n",
       "    </tr>\n",
       "    <tr>\n",
       "      <th>4</th>\n",
       "      <td>x_5</td>\n",
       "      <td>chlorides</td>\n",
       "      <td>theta_5</td>\n",
       "      <td>-1.730502743057372</td>\n",
       "    </tr>\n",
       "    <tr>\n",
       "      <th>5</th>\n",
       "      <td>x_6</td>\n",
       "      <td>free sulfur dioxide</td>\n",
       "      <td>theta_6</td>\n",
       "      <td>0.003801419076862004</td>\n",
       "    </tr>\n",
       "    <tr>\n",
       "      <th>6</th>\n",
       "      <td>x_7</td>\n",
       "      <td>total sulfur dioxide</td>\n",
       "      <td>theta_7</td>\n",
       "      <td>-0.003898998694536247</td>\n",
       "    </tr>\n",
       "    <tr>\n",
       "      <th>7</th>\n",
       "      <td>x_8</td>\n",
       "      <td>density</td>\n",
       "      <td>theta_8</td>\n",
       "      <td>4.338587684499409</td>\n",
       "    </tr>\n",
       "    <tr>\n",
       "      <th>8</th>\n",
       "      <td>x_9</td>\n",
       "      <td>pH</td>\n",
       "      <td>theta_9</td>\n",
       "      <td>-0.45853547521688753</td>\n",
       "    </tr>\n",
       "    <tr>\n",
       "      <th>9</th>\n",
       "      <td>x_10</td>\n",
       "      <td>sulphates</td>\n",
       "      <td>theta_10</td>\n",
       "      <td>0.7297186624705415</td>\n",
       "    </tr>\n",
       "    <tr>\n",
       "      <th>10</th>\n",
       "      <td>x_11</td>\n",
       "      <td>alcohol</td>\n",
       "      <td>theta_11</td>\n",
       "      <td>0.30885864844891386</td>\n",
       "    </tr>\n",
       "  </tbody>\n",
       "</table>\n",
       "</div>"
      ],
      "text/plain": [
       "       x             đặc trưng     theta                  hệ số\n",
       "0    x_1         fixed acidity   theta_1   0.005925161374105113\n",
       "1    x_2      volatile acidity   theta_2    -1.1080375422629067\n",
       "2    x_3           citric acid   theta_3    -0.2630462837012381\n",
       "3    x_4        residual sugar   theta_4   0.015322283066645292\n",
       "4    x_5             chlorides   theta_5     -1.730502743057372\n",
       "5    x_6   free sulfur dioxide   theta_6   0.003801419076862004\n",
       "6    x_7  total sulfur dioxide   theta_7  -0.003898998694536247\n",
       "7    x_8               density   theta_8      4.338587684499409\n",
       "8    x_9                    pH   theta_9   -0.45853547521688753\n",
       "9   x_10             sulphates  theta_10     0.7297186624705415\n",
       "10  x_11               alcohol  theta_11    0.30885864844891386"
      ]
     },
     "execution_count": 7,
     "metadata": {},
     "output_type": "execute_result"
    }
   ],
   "source": [
    "op_a = np.array([['x', 'đặc trưng', 'theta', 'hệ số']])\n",
    "for i in range(data_set.shape[1] - 1):\n",
    "    tmp = np.array([['x_' + str(i + 1), df.columns[i], 'theta_' + str(i + 1), res_a[i]]])\n",
    "    op_a = np.append(op_a, tmp, axis = 0)\n",
    "op_a = pd.DataFrame(data = op_a[1:, :], columns = op_a[0, :])\n",
    "\n",
    "op_a"
   ]
  },
  {
   "cell_type": "markdown",
   "metadata": {},
   "source": [
    "#### 3. Xây dựng mô hình chỉ sử dụng một đặc trưng cho kết quả tốt nhất\n",
    "\n",
    "Phần này ta sử dụng phương pháp K-Fold Cross Validation để tìm đặc trưng tốt nhất cho việc xây dựng mô hình đạt hiệu quả cao"
   ]
  },
  {
   "cell_type": "markdown",
   "metadata": {},
   "source": [
    "#### 3.1. Tạo mẫu từ bộ dữ liệu\n",
    "\n",
    "Ta sử dụng `k = 6` trong đồ án này"
   ]
  },
  {
   "cell_type": "code",
   "execution_count": 8,
   "metadata": {},
   "outputs": [
    {
     "name": "stdout",
     "output_type": "stream",
     "text": [
      "[200. 200. 200. 200. 200. 199.]\n"
     ]
    }
   ],
   "source": [
    "k = 6\n",
    "n = data_set.shape[0]\n",
    "samples = int(n / k) * np.ones(k)\n",
    "i = 0\n",
    "while n - np.sum(samples) != 0:\n",
    "    samples[i] += 1\n",
    "    i += 1\n",
    "print(samples)"
   ]
  },
  {
   "cell_type": "markdown",
   "metadata": {},
   "source": [
    "#### 3.2. Tính giá trị sai lệch theo phương pháp K-Fold Cross Validation"
   ]
  },
  {
   "cell_type": "markdown",
   "metadata": {},
   "source": [
    "Tính giá trị sai lệch dựa vào đặc trưng ở vị trí `idx` và mẫu test ở vị trí `k`"
   ]
  },
  {
   "cell_type": "code",
   "execution_count": 9,
   "metadata": {},
   "outputs": [],
   "source": [
    "def cross_validation(idx, k_test):\n",
    "    data_k = data_set[:, [idx, data_set.shape[1] - 1]]\n",
    "\n",
    "    start_test = int(np.sum(samples[:k_test]))\n",
    "    end_test = int(np.sum(samples[:k_test + 1]) - 1)\n",
    "\n",
    "    test = data_k[start_test:end_test + 1, :]\n",
    "    training = np.append(data_k[:start_test, :], data_k[end_test + 1:, :], axis = 0)\n",
    "\n",
    "    theta_train = linear_regression(training)\n",
    "\n",
    "    loss_array = np.zeros(test.shape[0])\n",
    "    for i in range(test.shape[0]):\n",
    "        loss_array[i] = np.abs(test[i, -1] - theta_train @ test[i, :-1].T)\n",
    "\n",
    "    return np.average(loss_array)"
   ]
  },
  {
   "cell_type": "markdown",
   "metadata": {},
   "source": [
    "#### 3.3. Tìm đặc trưng tốt nhất\n",
    "\n",
    "Đặc trưng tốt nhất là đặc trưng có giá trị sai lệch trung bình nhỏ nhất trong tất cả các đặc trưng được cung cấp"
   ]
  },
  {
   "cell_type": "code",
   "execution_count": 10,
   "metadata": {},
   "outputs": [
    {
     "data": {
      "text/html": [
       "<div>\n",
       "<style scoped>\n",
       "    .dataframe tbody tr th:only-of-type {\n",
       "        vertical-align: middle;\n",
       "    }\n",
       "\n",
       "    .dataframe tbody tr th {\n",
       "        vertical-align: top;\n",
       "    }\n",
       "\n",
       "    .dataframe thead th {\n",
       "        text-align: right;\n",
       "    }\n",
       "</style>\n",
       "<table border=\"1\" class=\"dataframe\">\n",
       "  <thead>\n",
       "    <tr style=\"text-align: right;\">\n",
       "      <th></th>\n",
       "      <th>đặc trưng</th>\n",
       "      <th>giá trị sai lệch</th>\n",
       "    </tr>\n",
       "  </thead>\n",
       "  <tbody>\n",
       "    <tr>\n",
       "      <th>0</th>\n",
       "      <td>alcohol</td>\n",
       "      <td>0.5490115616701011</td>\n",
       "    </tr>\n",
       "    <tr>\n",
       "      <th>1</th>\n",
       "      <td>density</td>\n",
       "      <td>0.7078487050943097</td>\n",
       "    </tr>\n",
       "    <tr>\n",
       "      <th>2</th>\n",
       "      <td>pH</td>\n",
       "      <td>0.7309991988159452</td>\n",
       "    </tr>\n",
       "    <tr>\n",
       "      <th>3</th>\n",
       "      <td>fixed acidity</td>\n",
       "      <td>1.054806874175808</td>\n",
       "    </tr>\n",
       "    <tr>\n",
       "      <th>4</th>\n",
       "      <td>sulphates</td>\n",
       "      <td>1.08597890510556</td>\n",
       "    </tr>\n",
       "    <tr>\n",
       "      <th>5</th>\n",
       "      <td>volatile acidity</td>\n",
       "      <td>1.846487704639521</td>\n",
       "    </tr>\n",
       "    <tr>\n",
       "      <th>6</th>\n",
       "      <td>residual sugar</td>\n",
       "      <td>2.0148893668391956</td>\n",
       "    </tr>\n",
       "    <tr>\n",
       "      <th>7</th>\n",
       "      <td>chlorides</td>\n",
       "      <td>2.0936369885451094</td>\n",
       "    </tr>\n",
       "    <tr>\n",
       "      <th>8</th>\n",
       "      <td>citric acid</td>\n",
       "      <td>2.598740705513529</td>\n",
       "    </tr>\n",
       "    <tr>\n",
       "      <th>9</th>\n",
       "      <td>free sulfur dioxide</td>\n",
       "      <td>2.8451016413556</td>\n",
       "    </tr>\n",
       "    <tr>\n",
       "      <th>10</th>\n",
       "      <td>total sulfur dioxide</td>\n",
       "      <td>3.1411396884744636</td>\n",
       "    </tr>\n",
       "  </tbody>\n",
       "</table>\n",
       "</div>"
      ],
      "text/plain": [
       "               đặc trưng    giá trị sai lệch\n",
       "0                alcohol  0.5490115616701011\n",
       "1                density  0.7078487050943097\n",
       "2                     pH  0.7309991988159452\n",
       "3          fixed acidity   1.054806874175808\n",
       "4              sulphates    1.08597890510556\n",
       "5       volatile acidity   1.846487704639521\n",
       "6         residual sugar  2.0148893668391956\n",
       "7              chlorides  2.0936369885451094\n",
       "8            citric acid   2.598740705513529\n",
       "9    free sulfur dioxide     2.8451016413556\n",
       "10  total sulfur dioxide  3.1411396884744636"
      ]
     },
     "execution_count": 10,
     "metadata": {},
     "output_type": "execute_result"
    }
   ],
   "source": [
    "# Tìm giá trị sai lệch trung bình cho 11 đặc trưng được cung cấp\n",
    "calc = np.zeros((data_set.shape[1] - 1, 2))\n",
    "for i in range(data_set.shape[1] - 1):\n",
    "    temp = 0\n",
    "    for j in range(k): temp += cross_validation(i, j)\n",
    "    calc[i][0] = temp / k\n",
    "    calc[i][1] = i\n",
    "\n",
    "# Sort tăng dần theo giá trị sai lệch trung bình\n",
    "calc = calc[calc[:, 0].argsort()]\n",
    "\n",
    "# Hiển thị ra màn hình\n",
    "op_b = np.array([['đặc trưng', 'giá trị sai lệch']])\n",
    "for i in range(data_set.shape[1] - 1):\n",
    "    tmp = np.array([[df.columns[int(calc[i][1])], calc[i][0]]])\n",
    "    op_b = np.append(op_b, tmp, axis = 0)\n",
    "op_b = pd.DataFrame(data = op_b[1:, :], columns = op_b[0, :])\n",
    "op_b"
   ]
  },
  {
   "cell_type": "markdown",
   "metadata": {},
   "source": [
    "Đặc trưng tốt nhất: **alcohol**\n",
    "\n",
    "Tìm mô hình chỉ dùng duy nhất 1 đặc trưng là **alcohol**"
   ]
  },
  {
   "cell_type": "code",
   "execution_count": 11,
   "metadata": {},
   "outputs": [
    {
     "name": "stdout",
     "output_type": "stream",
     "text": [
      "Mô hình nếu chỉ sử dụng đặc trưng Alcohol: y = 0.543705524123724x\n"
     ]
    }
   ],
   "source": [
    "alcohol_theta = linear_regression(data_set[:, [df.columns.get_loc(\"alcohol\"), data_set.shape[1] - 1]])\n",
    "print('Mô hình nếu chỉ sử dụng đặc trưng Alcohol: y =', str(alcohol_theta[0]) + 'x')"
   ]
  },
  {
   "cell_type": "markdown",
   "metadata": {},
   "source": [
    "#### 4. Xây dựng mô hình cho kết quả tốt nhất"
   ]
  },
  {
   "cell_type": "markdown",
   "metadata": {},
   "source": [
    "#### 4.1. Mô hình tuyến tính không có tung độ gốc (y = ax)"
   ]
  },
  {
   "cell_type": "code",
   "execution_count": 12,
   "metadata": {},
   "outputs": [
    {
     "name": "stdout",
     "output_type": "stream",
     "text": [
      "Residual vector value of model 'y = ax' is 22.12434596534916\n"
     ]
    }
   ],
   "source": [
    "X = data_set[:, :-1]\n",
    "y = data_set[:, -1]\n",
    "residual = np.linalg.norm(y - X @ res_a)\n",
    "print(\"Residual vector value of model 'y = ax' is\", residual)"
   ]
  },
  {
   "cell_type": "markdown",
   "metadata": {},
   "source": [
    "#### 4.2. Mô hình tuyến tính có tung độ gốc (y = ax + b)"
   ]
  },
  {
   "cell_type": "code",
   "execution_count": 13,
   "metadata": {},
   "outputs": [
    {
     "name": "stdout",
     "output_type": "stream",
     "text": [
      "Residual vector value of model 'y = ax + b' is 22.094716807791656\n"
     ]
    }
   ],
   "source": [
    "X = data_set[:, :-1]\n",
    "y = data_set[:, -1]\n",
    "\n",
    "# Thêm cột toàn số 1\n",
    "ones_column = np.ones((X.shape[0], 1))\n",
    "X = np.concatenate((ones_column, X), axis = 1)\n",
    "\n",
    "# Tìm hệ số thoả mô hình\n",
    "theta = np.linalg.pinv(X.T @ X) @ X.T @ y\n",
    "\n",
    "# Tính chuẩn vector phần dư và in ra màn hình\n",
    "residual = np.linalg.norm(y - X @ theta)\n",
    "print(\"Residual vector value of model 'y = ax + b' is\", residual)"
   ]
  },
  {
   "cell_type": "markdown",
   "metadata": {},
   "source": [
    "#### 4.3. Mô hình parabol hoàn chỉnh (y = ax^2 + bx + c)"
   ]
  },
  {
   "cell_type": "code",
   "execution_count": 14,
   "metadata": {},
   "outputs": [
    {
     "name": "stdout",
     "output_type": "stream",
     "text": [
      "Residual vector value of model 'y = ax^2 + bx + c' is 21.617693192282466\n"
     ]
    }
   ],
   "source": [
    "X = data_set[:, :-1]\n",
    "y = data_set[:, -1]\n",
    "\n",
    "# Thêm cột toàn số 1 và cột X^2\n",
    "ones_column = np.ones((X.shape[0], 1))\n",
    "x_square = X**2\n",
    "X = np.concatenate((ones_column, X, x_square), axis = 1)\n",
    "\n",
    "# Tìm hệ số thoả mô hình\n",
    "theta = np.linalg.pinv(X.T @ X) @ X.T @ y\n",
    "\n",
    "# Tính chuẩn vector phần dư và in ra màn hình\n",
    "residual = np.linalg.norm(y - X @ theta)\n",
    "print(\"Residual vector value of model 'y = ax^2 + bx + c' is\", residual)"
   ]
  },
  {
   "cell_type": "markdown",
   "metadata": {},
   "source": [
    "#### 4.4. Kiểm tra xem X có số nào nhỏ hơn 0 hay không (để xác định có lấy ln(X) được hay không)"
   ]
  },
  {
   "cell_type": "code",
   "execution_count": 15,
   "metadata": {},
   "outputs": [
    {
     "name": "stdout",
     "output_type": "stream",
     "text": [
      "174\n"
     ]
    }
   ],
   "source": [
    "count = 0\n",
    "for i in range(X.shape[0]):\n",
    "    for j in range(X.shape[1]):\n",
    "        if X[i][j] <= 0: count += 1\n",
    "print(count)"
   ]
  },
  {
   "cell_type": "markdown",
   "metadata": {},
   "source": [
    "Do có 174 phần tử $X_{i,j}<0$ nên ta không thể lấy $ln(X)$ được "
   ]
  },
  {
   "cell_type": "markdown",
   "metadata": {},
   "source": [
    "#### 4.5. Mô hình log - tuyến tính (ln(y) = a + bx)"
   ]
  },
  {
   "cell_type": "code",
   "execution_count": 16,
   "metadata": {},
   "outputs": [
    {
     "name": "stdout",
     "output_type": "stream",
     "text": [
      "Residual vector value of model 'ln(y) = a + bx' is 22.12508309025727\n"
     ]
    }
   ],
   "source": [
    "X = data_set[:, :-1]\n",
    "y = data_set[:, -1]\n",
    "\n",
    "# Thêm cột toàn số 1 vào X\n",
    "ones_column = np.ones((X.shape[0], 1))\n",
    "X = np.concatenate((ones_column, X), axis = 1)\n",
    "\n",
    "# Đổi thành ln(y)\n",
    "ln_y = np.log(y)\n",
    "\n",
    "# Tìm hệ số thoả mô hình\n",
    "theta = np.linalg.pinv(X.T @ X) @ X.T @ ln_y\n",
    "\n",
    "# Tính chuẩn vector phần dư và in ra màn hình\n",
    "residual = np.linalg.norm(y - np.exp(X @ theta))\n",
    "print(\"Residual vector value of model 'ln(y) = a + bx' is\", residual)"
   ]
  }
 ],
 "metadata": {
  "kernelspec": {
   "display_name": "Python 3.9.7 64-bit",
   "language": "python",
   "name": "python3"
  },
  "language_info": {
   "codemirror_mode": {
    "name": "ipython",
    "version": 3
   },
   "file_extension": ".py",
   "mimetype": "text/x-python",
   "name": "python",
   "nbconvert_exporter": "python",
   "pygments_lexer": "ipython3",
   "version": "3.9.7"
  },
  "orig_nbformat": 4,
  "vscode": {
   "interpreter": {
    "hash": "eadba2b3581326a2d7bd273e9d419eb0fab219e321930fd6a453aab726dd8270"
   }
  }
 },
 "nbformat": 4,
 "nbformat_minor": 2
}
