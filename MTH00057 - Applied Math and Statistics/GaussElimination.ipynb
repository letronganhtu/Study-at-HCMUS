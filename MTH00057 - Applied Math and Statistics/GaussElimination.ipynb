{
 "cells": [
  {
   "cell_type": "markdown",
   "metadata": {},
   "source": [
    "## **Đồ án 1 - Giải hệ phương trình tuyến tính**"
   ]
  },
  {
   "cell_type": "markdown",
   "metadata": {},
   "source": [
    "Họ và tên: Lê Trọng Anh Tú\n",
    "\n",
    "MSSV: 20127091\n",
    "\n",
    "Môn học: Toán ứng dụng và thống kê\n",
    "\n",
    "Lớp: 20CLC07"
   ]
  },
  {
   "cell_type": "markdown",
   "metadata": {},
   "source": [
    "#### **1. Phép khử Gauss**\n",
    "Input: ma trận mở rộng A của hệ phương trình\n",
    "\n",
    "Output: ma trận bậc thang"
   ]
  },
  {
   "cell_type": "code",
   "execution_count": 6,
   "metadata": {},
   "outputs": [],
   "source": [
    "def Gauss_elimination(A):\n",
    "    m = len(A)\n",
    "    n = len(A[0])\n",
    "    for i in range(m):\n",
    "        cont = True\n",
    "        p = i\n",
    "        while p < n:\n",
    "            for j in range(i, m):\n",
    "                if A[j][p] != 0:\n",
    "                    cont = False\n",
    "                    break\n",
    "            if cont == False: break\n",
    "            p += 1\n",
    "        if p == n: break\n",
    "        A[i], A[j] = A[j], A[i]\n",
    "        temp = A[i][p]\n",
    "        for k in range(n):\n",
    "            A[i][k] /= temp\n",
    "        for j in range(0, m):\n",
    "            if j != i: \n",
    "                temp = A[j][p]\n",
    "                for k in range(n):\n",
    "                    A[j][k] -= temp * A[i][k]"
   ]
  },
  {
   "cell_type": "markdown",
   "metadata": {},
   "source": [
    "#### **2. Phép thế ngược Back_substitution**\n",
    "Input: ma trận bậc thang A\n",
    "\n",
    "Output: các kết luận về nghiệm của hệ phương trình\n",
    "- Vô nghiệm $\\rightarrow$ \"No solution\"\n",
    "- Có 1 nghiệm duy nhất\n",
    "- Vô số nghiệm"
   ]
  },
  {
   "cell_type": "code",
   "execution_count": 7,
   "metadata": {},
   "outputs": [],
   "source": [
    "def back_substitution(A):\n",
    "    m = len(A)\n",
    "    n = len(A[0])\n",
    "    p = []\n",
    "    for i in range(n - 1): p.append(False)\n",
    "\n",
    "    for i in range(m - 1, -1, -1):\n",
    "        noSol = False\n",
    "        for j in range(n - 1):\n",
    "            if a[i][j] != 0: break\n",
    "        if j == n - 2 and a[i][j + 1] != 0 and a[i][j] == 0: \n",
    "            noSol = True\n",
    "            break\n",
    "    \n",
    "    if noSol == True: print('No solution')\n",
    "    else:\n",
    "        run = 1\n",
    "        for i in range(m):\n",
    "            while run <= n - 1 and a[i][run - 1] == 0: \n",
    "                print('x' + str(run) + ' = x' + str(run))\n",
    "                p[run - 1] = True\n",
    "                run += 1\n",
    "            if run >= n: break\n",
    "            line = 'x' + str(run) + ' = ' + str(a[i][n - 1])\n",
    "            p[run - 1] = True\n",
    "            for j in range(run, n - 1):\n",
    "                if a[i][j] != 0:\n",
    "                    if a[i][j] > 0: line += ' - ' + str(a[i][j]) + 'x' + str(j + 1)\n",
    "                    else: line += ' + ' + str(-a[i][j]) + 'x' + str(j + 1)\n",
    "            run += 1\n",
    "            print(line)\n",
    "        for i in range(len(p)):\n",
    "            if p[i] == False: print('x' + str(i + 1) + ' = x' + str(i + 1))"
   ]
  },
  {
   "cell_type": "markdown",
   "metadata": {},
   "source": [
    "#### **3. Xây dựng bộ test cho 2 hàm vừa cài đặt**\n",
    "Nhập ma trận mở rộng vào file `Input.txt`\n",
    "\n",
    "Đọc ma trận vào biến a"
   ]
  },
  {
   "cell_type": "code",
   "execution_count": 8,
   "metadata": {},
   "outputs": [],
   "source": [
    "inp = open(\"input.txt\", \"r\")\n",
    "a = [[float(num) for num in line.split()] for line in inp]"
   ]
  },
  {
   "cell_type": "markdown",
   "metadata": {},
   "source": [
    "##### **3.1. Kiểm tra phép khử Gauss**\n",
    "Sử dụng hàm `Gauss_elimination(a)` để đưa ma trận a về ma trận bậc thang\n",
    "In từng dòng của ma trận a ra"
   ]
  },
  {
   "cell_type": "code",
   "execution_count": 9,
   "metadata": {},
   "outputs": [
    {
     "name": "stdout",
     "output_type": "stream",
     "text": [
      "[1.0, 0.0, -3.5, 0.0]\n",
      "[0.0, 1.0, -1.5, 0.0]\n",
      "[0.0, 0.0, 0.0, 1.0]\n"
     ]
    }
   ],
   "source": [
    "Gauss_elimination(a)\n",
    "for line in a:\n",
    "    print(line)"
   ]
  },
  {
   "cell_type": "markdown",
   "metadata": {},
   "source": [
    "##### **3.2. Kiểm tra phép thế ngược Back_substitution**\n",
    "Sử dụng hàm `back_substitution(a)` để tìm nghiệm với ma trận bậc thang vừa tìm được"
   ]
  },
  {
   "cell_type": "code",
   "execution_count": 10,
   "metadata": {},
   "outputs": [
    {
     "name": "stdout",
     "output_type": "stream",
     "text": [
      "No solution\n"
     ]
    }
   ],
   "source": [
    "back_substitution(a)"
   ]
  }
 ],
 "metadata": {
  "interpreter": {
   "hash": "eadba2b3581326a2d7bd273e9d419eb0fab219e321930fd6a453aab726dd8270"
  },
  "kernelspec": {
   "display_name": "Python 3.9.7 64-bit",
   "language": "python",
   "name": "python3"
  },
  "language_info": {
   "codemirror_mode": {
    "name": "ipython",
    "version": 3
   },
   "file_extension": ".py",
   "mimetype": "text/x-python",
   "name": "python",
   "nbconvert_exporter": "python",
   "pygments_lexer": "ipython3",
   "version": "3.9.7"
  },
  "orig_nbformat": 4
 },
 "nbformat": 4,
 "nbformat_minor": 2
}
