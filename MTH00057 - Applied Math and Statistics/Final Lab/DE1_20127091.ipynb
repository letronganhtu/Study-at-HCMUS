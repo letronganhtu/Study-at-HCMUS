{
 "cells": [
  {
   "cell_type": "markdown",
   "metadata": {},
   "source": [
    "Họ tên: Lê Trọng Anh Tú\n",
    "\n",
    "MSSV: 20127091\n",
    "\n",
    "Lớp: 20CLC07"
   ]
  },
  {
   "cell_type": "markdown",
   "metadata": {},
   "source": [
    "#### 1. Câu 1\n",
    "\n",
    "`convertFraction(x)`: chuyển từ dạng phân số (chuỗi) sang số thập phân, nếu nó là 1 số nguyên bình thường thì trả về số nguyên\n",
    "\n",
    "`input_Markov()`: nhập m (số trạng thái của ma trận), P (ma trận chuyển) và r (phân phối đầu), in ra màn hình và output của hàm là 3 tham số vừa nhập vào"
   ]
  },
  {
   "cell_type": "code",
   "execution_count": 1,
   "metadata": {},
   "outputs": [],
   "source": [
    "# Câu 1\n",
    "def convertFraction(x):\n",
    "    isFraction = False\n",
    "\n",
    "    for i in range(len(x)):\n",
    "        if x[i] == '/':\n",
    "            isFraction = True\n",
    "            break\n",
    "    \n",
    "    if isFraction == False: return int(x)\n",
    "\n",
    "    t, m = x.split('/')\n",
    "    t = int(t)\n",
    "    m = int(m)\n",
    "    return t * 1.0 / m\n",
    "\n",
    "def input_Markov():\n",
    "    m = int(input())\n",
    "\n",
    "    P = []\n",
    "    for i in range(m):\n",
    "        line = input()\n",
    "        temp = [convertFraction(x) for x in line.split()]\n",
    "        P.append(temp)\n",
    "\n",
    "    r = []\n",
    "    for i in range(m):\n",
    "        temp = float(input())\n",
    "        add = [temp]\n",
    "        r.append(add)\n",
    "\n",
    "    print(\"Số trạng thái:\", m)\n",
    "    print(\"Ma trận chuyển:\", P)\n",
    "    print(\"Phân phối đầu:\", r)\n",
    "\n",
    "    return m, P, r"
   ]
  },
  {
   "cell_type": "markdown",
   "metadata": {},
   "source": [
    "#### 2. Câu 2\n",
    "`is_zero(value)`: kiểm tra giá trị value có xấp xỉ 0 hay không\n",
    "\n",
    "`multiplyMatrix(A, B)`: nhân 2 ma trận, output kết quả sau khi nhân\n",
    "\n",
    "`power(A, n)`: tính A mũ n\n",
    "\n",
    "`pp_xs(P, r0, n)`: trả ra $r_n=P^nr_0$"
   ]
  },
  {
   "cell_type": "code",
   "execution_count": 2,
   "metadata": {},
   "outputs": [],
   "source": [
    "# Câu 2\n",
    "\n",
    "# Kiểm tra giá trị value xấp xỉ 0\n",
    "def is_zero(value):\n",
    "    return 0 if abs(value) < 1e-9 else value\n",
    "\n",
    "# Nhân hai ma trận\n",
    "def multiplyMatrix(A, B):\n",
    "    if len(A[0]) == len(B):\n",
    "        c = [[]]\n",
    "        for i in range(len(A)):\n",
    "            for j in range(len(B[0])):\n",
    "                temp = 0\n",
    "                for k in range(len(B)):\n",
    "                    temp += (A[i][k] * B[k][j])\n",
    "                c[i].append(is_zero(temp))\n",
    "            if i + 1 < len(A): c.append([])\n",
    "        return c\n",
    "    return None\n",
    "\n",
    "# Tính A^n (A là ma trận)\n",
    "def power(A, n):\n",
    "    if n == 0: return [[1 if i == j else 0 for j in range(len(A[0]))] for i in range(len(A))]\n",
    "    if n == 1: return A\n",
    "    if n % 2 == 0: return multiplyMatrix(power(A, n / 2), power(A, n / 2))\n",
    "    else: return multiplyMatrix(multiplyMatrix(A, power(A, (n - 1) / 2)), power(A, (n - 1) / 2))\n",
    "\n",
    "def pp_xs(P, r0, n):\n",
    "    return multiplyMatrix(power(P, n), r0)"
   ]
  },
  {
   "cell_type": "markdown",
   "metadata": {},
   "source": [
    "#### 3. Câu 3\n",
    "\n",
    "Thiết lập 2 tham số là `run = 1000` để tượng trưng việc chạy tới 1000 thì có thể suy ra không tồn tại phân phối dừng, `accepted_error = 1e-5` để xử lý sai số khi tính toán trong Python\n",
    "\n",
    "Để tìm phân phối dừng, ta có thể dùng việc luỹ thừa $P^n$ đến một giới hạn `run` nào đó, nếu tồn tại $P^k, k \\in [1, run]$ mà các cột giống nhau thì ta lấy 1 cột trong đó ra, nó chính là phân phối dừng\n",
    "- Còn nếu chạy tới giới hạn mà chưa tìm được thì trả về `None` - không tìm được phân phối dừng"
   ]
  },
  {
   "cell_type": "code",
   "execution_count": 3,
   "metadata": {},
   "outputs": [],
   "source": [
    "# Câu 3\n",
    "run = 1000\n",
    "accepted_error = 1e-5\n",
    "\n",
    "def pp_dung(P):\n",
    "    i = 2\n",
    "    res = P\n",
    "    exists = False\n",
    "\n",
    "    while i <= run:\n",
    "        res = multiplyMatrix(res, P)\n",
    "        not_res = False\n",
    "        for i in range(len(res)):\n",
    "            for j in range(len(res[0]) - 1):\n",
    "                if abs(res[i][j] - res[i][j + 1]) > accepted_error:\n",
    "                    not_res = True\n",
    "                    break\n",
    "            if not_res == True: break\n",
    "        if not_res == False:\n",
    "            exists = True\n",
    "            break\n",
    "\n",
    "    if exists == True:\n",
    "        ans = []\n",
    "        for i in range(len(res)):\n",
    "            temp = []\n",
    "            temp.append(res[i][0])\n",
    "            ans.append(temp)\n",
    "        return ans\n",
    "    return None"
   ]
  },
  {
   "cell_type": "markdown",
   "metadata": {},
   "source": [
    "#### 4. Câu 4"
   ]
  },
  {
   "cell_type": "markdown",
   "metadata": {},
   "source": [
    "#### 4.1. Kết quả câu 1 (4a)"
   ]
  },
  {
   "cell_type": "code",
   "execution_count": 4,
   "metadata": {},
   "outputs": [
    {
     "name": "stdout",
     "output_type": "stream",
     "text": [
      "Số trạng thái: 3\n",
      "Ma trận chuyển: [[0.3333333333333333, 0.5, 0], [0.3333333333333333, 0, 0.25], [0.3333333333333333, 0.5, 0.75]]\n",
      "Phân phối đầu: [[0.3], [0.3], [0.4]]\n"
     ]
    }
   ],
   "source": [
    "m, P, r = input_Markov()"
   ]
  },
  {
   "cell_type": "markdown",
   "metadata": {},
   "source": [
    "#### 4.2. Kết quả câu 2 (4b)"
   ]
  },
  {
   "cell_type": "code",
   "execution_count": 5,
   "metadata": {},
   "outputs": [
    {
     "name": "stdout",
     "output_type": "stream",
     "text": [
      "[[0.16221064814814815], [0.21177662037037037], [0.6260127314814814]]\n"
     ]
    }
   ],
   "source": [
    "n = 4\n",
    "print(pp_xs(P, r, n))"
   ]
  },
  {
   "cell_type": "markdown",
   "metadata": {},
   "source": [
    "#### 4.3. Kết quả câu 3 (4c)"
   ]
  },
  {
   "cell_type": "code",
   "execution_count": 6,
   "metadata": {},
   "outputs": [
    {
     "name": "stdout",
     "output_type": "stream",
     "text": [
      "[[0.15789851605257632], [0.21052689531054933], [0.6315745886368742]]\n"
     ]
    }
   ],
   "source": [
    "print(pp_dung(P))"
   ]
  }
 ],
 "metadata": {
  "kernelspec": {
   "display_name": "Python 3.9.7 64-bit",
   "language": "python",
   "name": "python3"
  },
  "language_info": {
   "codemirror_mode": {
    "name": "ipython",
    "version": 3
   },
   "file_extension": ".py",
   "mimetype": "text/x-python",
   "name": "python",
   "nbconvert_exporter": "python",
   "pygments_lexer": "ipython3",
   "version": "3.9.7"
  },
  "orig_nbformat": 4,
  "vscode": {
   "interpreter": {
    "hash": "eadba2b3581326a2d7bd273e9d419eb0fab219e321930fd6a453aab726dd8270"
   }
  }
 },
 "nbformat": 4,
 "nbformat_minor": 2
}
