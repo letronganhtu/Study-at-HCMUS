{
 "cells": [
  {
   "cell_type": "markdown",
   "metadata": {},
   "source": [
    "## ĐỒ ÁN THỰC HÀNH GIỮA KỲ - PHÂN RÃ QR MA TRẬN\n",
    "\n",
    "Họ và tên: Lê Trọng Anh Tú\n",
    "\n",
    "MSSV: 20127091\n",
    "\n",
    "Môn học: Toán ứng dụng và thống kê\n",
    "\n",
    "Lớp: 20CLC07"
   ]
  },
  {
   "cell_type": "markdown",
   "metadata": {},
   "source": [
    "#### 1. Xây dựng các hàm hỗ trợ\n",
    "\n",
    "Như đã học ở trên lớp Lý Thuyết, để thực hiện phân rã QR thì ta cần một số hàm hỗ trợ cho việc tính toán diễn ra thuận tiện. Từng hàm sẽ được trình bày chi tiết trong các mục dưới đây."
   ]
  },
  {
   "cell_type": "markdown",
   "metadata": {},
   "source": [
    "#### 1.1. Hàm tính tích vô hướng giữa 2 vector **x** và **y**\n",
    "\n",
    "Input: 2 vector **x** và **y** có cùng kích thước\n",
    "\n",
    "Output: tích vô hướng giữa 2 vector **x** và **y**, kí hiệu **<x, y>**\n",
    "$$<\\textbf{x},\\textbf{y}> = \\sum_{i=1}^n x_i*y_i$$"
   ]
  },
  {
   "cell_type": "code",
   "execution_count": 97,
   "metadata": {},
   "outputs": [],
   "source": [
    "def scalar_product(x, y):\n",
    "    res = 0\n",
    "    for i in range(len(x)): res += x[i] * y[i]\n",
    "    return res"
   ]
  },
  {
   "cell_type": "markdown",
   "metadata": {},
   "source": [
    "#### 1.2. Hàm tính norm (chuẩn) của vector **x**\n",
    "\n",
    "Input: vector **x** bất kì\n",
    "\n",
    "Output: norm (hay chuẩn) của vector **x** theo công thức\n",
    "\n",
    "$$||\\textbf{x}|| = \\sqrt{\\sum_{i=1}^n x_i^2} = \\sqrt{<\\textbf{x}, \\textbf{x}>}$$\n"
   ]
  },
  {
   "cell_type": "code",
   "execution_count": 98,
   "metadata": {},
   "outputs": [],
   "source": [
    "def norm(x):\n",
    "    return scalar_product(x, x) ** 0.5"
   ]
  },
  {
   "cell_type": "markdown",
   "metadata": {},
   "source": [
    "#### 1.3. Hàm tìm ma trận chuyển vị\n",
    "\n",
    "Input: ma trận A có kích thước m*n\n",
    "\n",
    "Output: ma trận A<sup>T</sup> có kích thước n*m là ma trận chuyển vị của ma trận A"
   ]
  },
  {
   "cell_type": "code",
   "execution_count": 99,
   "metadata": {},
   "outputs": [],
   "source": [
    "def transposition(A):\n",
    "    c = [[]]\n",
    "    for j in range(len(A[0])):\n",
    "        for i in range(len(A)):\n",
    "            c[j].append(A[i][j])\n",
    "        if j + 1 < len(A[0]): c.append([])\n",
    "    return c"
   ]
  },
  {
   "cell_type": "markdown",
   "metadata": {},
   "source": [
    "#### 1.4. Hàm kiểm tra một số có bằng 0 hay không\n",
    "\n",
    "Input: một số `value` bất kì\n",
    "\n",
    "Output: số đó có phải là 0 hay không (True/False)"
   ]
  },
  {
   "cell_type": "code",
   "execution_count": 100,
   "metadata": {},
   "outputs": [],
   "source": [
    "def is_zero(value):\n",
    "    return 0 if abs(value) < 1e-9 else value"
   ]
  },
  {
   "cell_type": "markdown",
   "metadata": {},
   "source": [
    "#### 1.5. Hàm kiểm tra vector 0\n",
    "\n",
    "Input: vector x bất kì\n",
    "\n",
    "Output: x có phải là vector 0 hay không (True/False)"
   ]
  },
  {
   "cell_type": "code",
   "execution_count": 101,
   "metadata": {},
   "outputs": [],
   "source": [
    "def vector0(x):\n",
    "    for i in range(len(x)):\n",
    "        if is_zero(x[i]) != 0: return False\n",
    "    return True"
   ]
  },
  {
   "cell_type": "markdown",
   "metadata": {},
   "source": [
    "#### 1.6. Nhân một số với vector x\n",
    "\n",
    "Input: số scalar và vector x\n",
    "\n",
    "Output: vector sau khi đã nhân với số scalar"
   ]
  },
  {
   "cell_type": "code",
   "execution_count": 102,
   "metadata": {},
   "outputs": [],
   "source": [
    "def scalar_number(scalar, x):\n",
    "    return [scalar * num for num in x]"
   ]
  },
  {
   "cell_type": "markdown",
   "metadata": {},
   "source": [
    "#### 1.7. Hàm nhân 2 ma trận\n",
    "\n",
    "Input: 2 ma trận với số cột của ma trận bên trái bằng số dòng của ma trận bên phải\n",
    "\n",
    "Output: ma trận sau khi nhân"
   ]
  },
  {
   "cell_type": "code",
   "execution_count": 103,
   "metadata": {},
   "outputs": [],
   "source": [
    "def multiplyMatrix(A, B):\n",
    "    c = [[]]\n",
    "    for i in range(len(A)):\n",
    "        for j in range(len(B[0])):\n",
    "            temp = 0\n",
    "            for k in range(len(B)):\n",
    "                temp += (A[i][k] * B[k][j])\n",
    "            c[i].append(is_zero(temp))\n",
    "        if i + 1 < len(A): c.append([])\n",
    "    return c"
   ]
  },
  {
   "cell_type": "markdown",
   "metadata": {},
   "source": [
    "#### 2. Thuật toán Gram-Schmidt"
   ]
  },
  {
   "cell_type": "markdown",
   "metadata": {},
   "source": [
    "Thuật toán này sẽ biến đổi một cơ sở B gồm k vector thành một cơ sở B' cũng gồm k vector thoả:\n",
    "- Tất cả mọi cặp trong cơ sở B' đều vuông góc với nhau\n",
    "- Mỗi vector **x** trong cơ sở B' đều thoả $||x|| = 1$\n",
    "\n",
    "Ta cũng có nhận xét rằng B phải là cơ sở thì ta mới sử dụng thuật toán được. Như vậy nếu B phụ thuộc tuyến tính thì ta kết luận và không tiếp tục thuật toán nữa.\n",
    "\n",
    "Dựa vào các ý nêu trên, thuật toán Gram-Schmidt thực hiện từng bước như sau:\n",
    "\n",
    "- Bước 0: $B = \\{u_1, u_2, ..., u_k\\}$ và $B' = \\{v_1, v_2, ..., v_k\\}$\n",
    "\n",
    "- Bước 1: $v_1 = u_1$\n",
    "\n",
    "- Bước 2: Với mỗi i từ 2 đến k ta có\n",
    "$$v_i=u_i - \\sum_{j=1}^{i-1}\\displaystyle\\frac{<u_i, v_j>}{||v_j||^2}*v_j$$\n",
    "\n",
    "Trong khi thực hiện bước 2, nếu tồn tại bất kì $v_i$ nào trùng với vector **0** thì ta kết luận B phụ thuộc tuyến tính và không tiếp tục thuật toán được nữa\n",
    "\n",
    "- Bước 3: Ta trực chuẩn các vector trong cơ sở B' thu được theo công thức\n",
    "$$q_i=\\displaystyle\\frac{v_i}{||v_i||}$$\n",
    "(với i chạy từ 1 đến k)"
   ]
  },
  {
   "cell_type": "markdown",
   "metadata": {},
   "source": [
    "#### 3. Phân rã QR\n",
    "\n",
    "Dựa vào ý tưởng thuật toán Gram-Schmidt, ta áp dụng vào việc phân rã A = QR như sau:\n",
    "\n",
    "- $A = [u_1, u_2, ..., u_k]$ với k là số cột của ma trận A\n",
    "\n",
    "- Tìm Q: đưa các vector trong ma trận A về dạng trực chuẩn $Q = [q_1, q_2, ..., q_k]$\n",
    "\n",
    "- Tìm R = Q<sup>T</sup>A\n",
    "    - Nhận xét được R là ma trận tam giác trên và là ma trận vuông"
   ]
  },
  {
   "cell_type": "markdown",
   "metadata": {},
   "source": [
    "#### 3.1. Đưa 1 vector về dạng trực chuẩn\n",
    "\n",
    "Input: vector x bất kì\n",
    "\n",
    "Output: dạng trực chuẩn của vector x"
   ]
  },
  {
   "cell_type": "code",
   "execution_count": 104,
   "metadata": {},
   "outputs": [],
   "source": [
    "def orthonormalityVector(x):\n",
    "    temp = norm(x)\n",
    "    return [y / temp for y in x]"
   ]
  },
  {
   "cell_type": "markdown",
   "metadata": {},
   "source": [
    "#### 3.2. Phân rã QR ma trận A\n",
    "\n",
    "Input: ma trận A\n",
    "\n",
    "Output: 2 ma trận Q và R thoả A = QR\n",
    "- Nếu các vector của A không phụ thuộc tuyến tính thì sẽ output ra 2 ma trận Q và R\n",
    "- Nếu các vector của A phụ thuộc tuyến tính, hàm sẽ trả ra False cho cả 2 biến Q và R để báo rằng không phân rã QR được"
   ]
  },
  {
   "cell_type": "code",
   "execution_count": 105,
   "metadata": {},
   "outputs": [],
   "source": [
    "# Đưa về trực chuẩn\n",
    "def QR_decomposition(A):\n",
    "    B = A\n",
    "    A = transposition(A)\n",
    "    Q = []\n",
    "    linear_dependence = False\n",
    "    for i in range(len(A)):\n",
    "        temp = A[i]\n",
    "        if i != 0:\n",
    "            for j in range(i):\n",
    "                t1 = scalar_number(scalar_product(A[i], Q[j]) / (norm(Q[j]) ** 2), Q[j])\n",
    "                for k in range(len(t1)):\n",
    "                    temp[k] -= is_zero(t1[k])\n",
    "                    temp[k] = is_zero(temp[k])\n",
    "        if (vector0(temp)): linear_dependence = True\n",
    "        Q.append(temp)\n",
    "    for i in range(len(Q)): Q[i] = orthonormalityVector(Q[i])\n",
    "\n",
    "    if linear_dependence == True: return False, False\n",
    "    R = multiplyMatrix(Q, B)\n",
    "    return transposition(Q), R"
   ]
  },
  {
   "cell_type": "markdown",
   "metadata": {},
   "source": [
    "#### 3.3. Xây dựng bộ test cho từng câu"
   ]
  },
  {
   "cell_type": "markdown",
   "metadata": {},
   "source": [
    "#### 3.3.1. Câu a"
   ]
  },
  {
   "cell_type": "code",
   "execution_count": 106,
   "metadata": {},
   "outputs": [
    {
     "name": "stdout",
     "output_type": "stream",
     "text": [
      "Q = [[0.3333333333333333, 0.6666666666666666, 0.6666666666666664], [0.6666666666666666, 0.3333333333333333, -0.6666666666666667], [-0.6666666666666666, 0.6666666666666666, -0.33333333333333354]]\n",
      "R = [[3.0, -3.0, 0.6666666666666666], [0, 3.0, 2.333333333333333], [0, 0, 0.33333333333333254]]\n"
     ]
    }
   ],
   "source": [
    "if __name__ == '__main__':\n",
    "    a = [[1, 1, 2], [2, -1, 1], [-2, 4, 1]]\n",
    "    q, r = QR_decomposition(a)\n",
    "    if q == False: print(\"Can't QR decomposition\")\n",
    "    else:\n",
    "        print(\"Q =\", q)\n",
    "        print(\"R =\", r)"
   ]
  },
  {
   "cell_type": "markdown",
   "metadata": {},
   "source": [
    "#### 3.3.2. Câu b"
   ]
  },
  {
   "cell_type": "code",
   "execution_count": 107,
   "metadata": {},
   "outputs": [
    {
     "name": "stdout",
     "output_type": "stream",
     "text": [
      "Q = [[0.4082482904638631, 0.5773502691896257, 0.7071067811865475], [0.8164965809277261, -0.5773502691896256, 0.0], [0.4082482904638631, 0.5773502691896257, -0.7071067811865476]]\n",
      "R = [[2.4494897427831783, -0.816496580927726, 1.632993161855452], [0, 2.309401076758503, -1.1547005383792512], [0, 0, 1.414213562373095]]\n"
     ]
    }
   ],
   "source": [
    "if __name__ == '__main__':\n",
    "    a = [[1, 1, 1], [2, -2, 2], [1, 1, -1]]\n",
    "    q, r = QR_decomposition(a)\n",
    "    if q == False: print(\"Can't QR decomposition\")\n",
    "    else:\n",
    "        print(\"Q =\", q)\n",
    "        print(\"R =\", r)"
   ]
  },
  {
   "cell_type": "markdown",
   "metadata": {},
   "source": [
    "#### 3.3.3. Câu c"
   ]
  },
  {
   "cell_type": "code",
   "execution_count": 108,
   "metadata": {},
   "outputs": [
    {
     "name": "stdout",
     "output_type": "stream",
     "text": [
      "Q = [[0.7071067811865475, 0.0, -0.7071067811865475], [0.0, 1.0, 0.0], [0.7071067811865475, 0.0, 0.7071067811865475]]\n",
      "R = [[1.414213562373095, 1.414213562373095, 0], [0, 1.0, 2.0], [0, 0, 1.414213562373095]]\n"
     ]
    }
   ],
   "source": [
    "if __name__ == '__main__':\n",
    "    a = [[1, 1, -1], [0, 1, 2], [1, 1, 1]]\n",
    "    q, r = QR_decomposition(a)\n",
    "    if q == False: print(\"Can't QR decomposition\")\n",
    "    else:\n",
    "        print(\"Q =\", q)\n",
    "        print(\"R =\", r)"
   ]
  },
  {
   "cell_type": "markdown",
   "metadata": {},
   "source": [
    "#### 3.3.4. Câu d"
   ]
  },
  {
   "cell_type": "code",
   "execution_count": 109,
   "metadata": {},
   "outputs": [
    {
     "name": "stdout",
     "output_type": "stream",
     "text": [
      "Q = [[-0.5, 0.5, -0.5], [0.5, 0.5, -0.5], [-0.5, 0.5, 0.5], [0.5, 0.5, 0.5]]\n",
      "R = [[2.0, 4.0, 2.0], [0, 2.0, 8.0], [0, 0, 4.0]]\n"
     ]
    }
   ],
   "source": [
    "if __name__ == '__main__':\n",
    "    a = [[-1, -1, 1], [1, 3, 3], [-1, -1, 5], [1, 3, 7]]\n",
    "    q, r = QR_decomposition(a)\n",
    "    if q == False: print(\"Can't QR decomposition\")\n",
    "    else:\n",
    "        print(\"Q =\", q)\n",
    "        print(\"R =\", r)"
   ]
  },
  {
   "cell_type": "markdown",
   "metadata": {},
   "source": [
    "#### 3.3.5. Câu e"
   ]
  },
  {
   "cell_type": "code",
   "execution_count": 110,
   "metadata": {},
   "outputs": [
    {
     "name": "stdout",
     "output_type": "stream",
     "text": [
      "Q = [[0.2672612419124244, 0.3585685828003181, 0.5962847939999439], [0.5345224838248488, 0.7171371656006362, -0.29814239699997197], [0.8017837257372732, -0.5976143046671969, 0.0], [0.0, 0.0, 0.7453559924999299]]\n",
      "R = [[3.7416573867739413, 1.3363062095621219, 0.2672612419124244], [0, 1.7928429140015907, 0.3585685828003181], [0, 0, 1.3416407864998738]]\n"
     ]
    }
   ],
   "source": [
    "if __name__ == '__main__':\n",
    "    a = [[1, 1, 1], [2, 2, 0], [3, 0, 0], [0, 0, 1]]\n",
    "    q, r = QR_decomposition(a)\n",
    "    if q == False: print(\"Can't QR decomposition\")\n",
    "    else:\n",
    "        print(\"Q =\", q)\n",
    "        print(\"R =\", r)"
   ]
  },
  {
   "cell_type": "markdown",
   "metadata": {},
   "source": [
    "#### 3.3.6. Câu f"
   ]
  },
  {
   "cell_type": "code",
   "execution_count": 111,
   "metadata": {},
   "outputs": [
    {
     "name": "stdout",
     "output_type": "stream",
     "text": [
      "Q = [[-0.8944271909999159, 0.18257418583505555, 0.3162277660168382], [0.4472135954999579, 0.36514837167011066, 0.6324555320336757], [0.0, 0.9128709291752769, -0.316227766016838], [0.0, 0.0, 0.6324555320336759]]\n",
      "R = [[2.23606797749979, -0.8944271909999159, -2.6832815729997477], [0, 1.0954451150103324, 0.5477225575051666], [0, 0, 1.5811388300841904]]\n"
     ]
    }
   ],
   "source": [
    "if __name__ == '__main__':\n",
    "    a = [[-2, 1, 3], [1, 0, 0], [0, 1, 0], [0, 0, 1]]\n",
    "    q, r = QR_decomposition(a)\n",
    "    if q == False: print(\"Can't QR decomposition\")\n",
    "    else:\n",
    "        print(\"Q =\", q)\n",
    "        print(\"R =\", r)"
   ]
  },
  {
   "cell_type": "markdown",
   "metadata": {},
   "source": [
    "#### 3.3.7. Câu g"
   ]
  },
  {
   "cell_type": "code",
   "execution_count": 112,
   "metadata": {},
   "outputs": [
    {
     "name": "stdout",
     "output_type": "stream",
     "text": [
      "Q = [[0.5773502691896258, -0.2581988897471611, 0.7745966692414835], [0.5773502691896258, 0.5163977794943223, -0.2581988897471611], [-0.5773502691896258, 0.2581988897471611, 0.5163977794943222], [0.0, 0.7745966692414834, 0.25819888974716115]]\n",
      "R = [[1.7320508075688776, -1.1547005383792517, -0.5773502691896258], [0, 1.2909944487358056, 0.2581988897471612], [0, 0, 3.0983866769659336]]\n"
     ]
    }
   ],
   "source": [
    "if __name__ == '__main__':\n",
    "    a = [[1, -1, 2], [1, 0, -1], [-1, 1, 2], [0, 1, 1]]\n",
    "    q, r = QR_decomposition(a)\n",
    "    if q == False: print(\"Can't QR decomposition\")\n",
    "    else:\n",
    "        print(\"Q =\", q)\n",
    "        print(\"R =\", r)"
   ]
  }
 ],
 "metadata": {
  "kernelspec": {
   "display_name": "Python 3.9.7 64-bit",
   "language": "python",
   "name": "python3"
  },
  "language_info": {
   "codemirror_mode": {
    "name": "ipython",
    "version": 3
   },
   "file_extension": ".py",
   "mimetype": "text/x-python",
   "name": "python",
   "nbconvert_exporter": "python",
   "pygments_lexer": "ipython3",
   "version": "3.9.7"
  },
  "orig_nbformat": 4,
  "vscode": {
   "interpreter": {
    "hash": "eadba2b3581326a2d7bd273e9d419eb0fab219e321930fd6a453aab726dd8270"
   }
  }
 },
 "nbformat": 4,
 "nbformat_minor": 2
}
